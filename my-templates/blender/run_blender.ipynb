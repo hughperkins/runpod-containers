{
 "cells": [
  {
   "cell_type": "code",
   "execution_count": null,
   "metadata": {
    "id": "h7sezB8rZqc0"
   },
   "outputs": [],
   "source": [
    "import psutil\n",
    "def get_size(bytes, suffix=\"B\"):\n",
    "    factor = 1024\n",
    "    for unit in [\"\", \"K\", \"M\", \"G\", \"T\", \"P\"]:\n",
    "        if bytes < factor:\n",
    "            return f\"{bytes:.2f}{unit}{suffix}\"\n",
    "        bytes /= factor\n",
    "print(\"=\"*40, \"Memory Information\", \"=\"*40)\n",
    "svmem = psutil.virtual_memory()\n",
    "print(f\"Total: {get_size(svmem.total)}\") ; print(f\"Available: {get_size(svmem.available)}\")\n",
    "print(f\"Used: {get_size(svmem.used)}\") ; print(f\"Percentage: {svmem.percent}%\")"
   ]
  },
  {
   "cell_type": "code",
   "execution_count": null,
   "metadata": {
    "id": "tgz0oblTaEfk"
   },
   "outputs": [],
   "source": [
    "! nvidia-smi"
   ]
  },
  {
   "cell_type": "code",
   "execution_count": null,
   "metadata": {
    "id": "K5k1tDKNdB7c"
   },
   "outputs": [],
   "source": [
    "#Upload your blend file in /workspace diectory or simply drag and drop.\n",
    "# For single frame. The value -f represent frame value in a scene as mentioned below. Change it as per your suitability along with the file name\n",
    "!./blender/blender -P setgpu.py -b './test_render1.blend' -o '####.png' -f 29"
   ]
  },
  {
   "cell_type": "code",
   "execution_count": null,
   "metadata": {
    "id": "aqt-JG9vd2hE"
   },
   "outputs": [],
   "source": [
    "# For Multiples frame renders as PNG images. -s = starting frame value, -e = end frame value\n",
    "!./blender/blender -P setgpu.py -b './test_render.blend' -o '/workplace/output/####.png' -s 1 -e 5 -a"
   ]
  },
  {
   "cell_type": "code",
   "execution_count": null,
   "metadata": {},
   "outputs": [],
   "source": [
    "# Zipping the output folder\n",
    "!apt install zip -y\n",
    "!zip -r Blender-output.zip output\n",
    "\n",
    "#Right click the Blender-output.zip file and click on download or copy sharable link. IF it doesn't appear immediately then wait for a while."
   ]
  },
  {
   "cell_type": "code",
   "execution_count": null,
   "metadata": {},
   "outputs": [],
   "source": [
    "!rmdir cache_fluid_8c2b4f1\n",
    "!mv __MACOSX/cache_fluid_* ."
   ]
  }
 ],
 "metadata": {
  "accelerator": "GPU",
  "colab": {
   "private_outputs": true,
   "provenance": []
  },
  "kernelspec": {
   "display_name": "Python 3 (ipykernel)",
   "language": "python",
   "name": "python3"
  },
  "language_info": {
   "codemirror_mode": {
    "name": "ipython",
    "version": 3
   },
   "file_extension": ".py",
   "mimetype": "text/x-python",
   "name": "python",
   "nbconvert_exporter": "python",
   "pygments_lexer": "ipython3",
   "version": "3.10.12"
  }
 },
 "nbformat": 4,
 "nbformat_minor": 4
}
